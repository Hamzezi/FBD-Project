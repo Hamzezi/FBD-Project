{
 "cells": [
  {
   "cell_type": "code",
   "execution_count": 11,
   "metadata": {},
   "outputs": [],
   "source": [
    "import matplotlib.pyplot as plt\n",
    "import seaborn as sns\n",
    "import numpy as np\n",
    "np.random.seed(42)\n",
    "import os\n",
    "import pandas as pd\n",
    "\n",
    "from utils.loading import TICKER_PATHS, BUYER_PATH, SELLER_PATH\n",
    "from utils.loading import read_ticker\n",
    "from utils.preprocessing import preprocess_ticker\n",
    "from utils.processing import buyer_seller_stats"
   ]
  },
  {
   "cell_type": "code",
   "execution_count": null,
   "metadata": {},
   "outputs": [],
   "source": [
    "import pandas as pd\n",
    "import numpy as np\n",
    "\n",
    "num_bins = 250\n",
    "volume_bins = pd.qcut(df3['volume_pct'], q=num_bins, duplicates='drop')\n",
    "binned_data = df3.groupby(volume_bins)['price_impact_pct'].mean().reset_index(name='avg_price_impact')"
   ]
  },
  {
   "cell_type": "code",
   "execution_count": null,
   "metadata": {},
   "outputs": [],
   "source": [
    "binned_data['volume_pct'] = binned_data['volume_pct'].apply(lambda x: x.right)"
   ]
  },
  {
   "cell_type": "code",
   "execution_count": null,
   "metadata": {},
   "outputs": [],
   "source": [
    "# plot price impact vs volume\n",
    "# df_trader_stats = df_trader_stats[df_trader_stats['price_impact'] > 0]\n",
    "# draw a square root line\n",
    "x = np.logspace(-3, 1, 1000)\n",
    "# create sqrt line with intercept 0.1\n",
    "y_sqrt = np.sqrt(x)\n",
    "y_linear = x\n",
    "\n",
    "plt.loglog(x, y_sqrt, label='sqrt')\n",
    "plt.loglog(x, y_linear, label='linear')\n",
    "plt.legend()\n",
    "\n",
    "sns.scatterplot(data=binned_data, x='volume_pct', y='avg_price_impact', alpha=0.5)\n",
    "plt.xlabel('Total Volume')\n",
    "plt.ylabel('Price Impact')\n",
    "plt.xscale('log')\n",
    "plt.yscale('log')\n",
    "plt.title('Price Impact vs Total Volume')\n",
    "plt.show()"
   ]
  },
  {
   "cell_type": "code",
   "execution_count": null,
   "metadata": {},
   "outputs": [],
   "source": [
    "0.1 + np.sqrt(x), np.sqrt(x)"
   ]
  },
  {
   "cell_type": "code",
   "execution_count": null,
   "metadata": {},
   "outputs": [],
   "source": [
    "trader_stats"
   ]
  },
  {
   "cell_type": "code",
   "execution_count": null,
   "metadata": {},
   "outputs": [],
   "source": [
    "import statsmodels.api as sm\n",
    "from sklearn.linear_model import LinearRegression\n",
    "import matplotlib.pyplot as plt\n",
    "\n",
    "# Assuming df is your preprocessed DataFrame\n",
    "\n",
    "# Aggregate data\n",
    "aggregated_data = df_cleaned.resample('min').agg({\n",
    "    'trade-volume': 'sum',\n",
    "    'trade-price': lambda x: np.average(x, weights=df_cleaned.loc[x.index, 'trade-volume'])  # Weighted average\n",
    "})\n",
    "\n",
    "# Calculate price changes\n",
    "aggregated_data['price_change'] = aggregated_data['trade-price'].diff().abs()\n",
    "\n",
    "# Square root of trade volume\n",
    "aggregated_data['sqrt_volume'] = np.sqrt(aggregated_data['trade-volume'])\n",
    "\n",
    "# Linear regression\n",
    "X = sm.add_constant(aggregated_data['sqrt_volume'])  # Add constant term\n",
    "y = aggregated_data['price_change']\n",
    "model = sm.OLS(y, X, missing='drop').fit()  # Drop NaN values\n",
    "\n",
    "# Plotting\n",
    "plt.scatter(aggregated_data['sqrt_volume'], aggregated_data['price_change'])\n",
    "plt.plot(aggregated_data['sqrt_volume'], model.predict(X), color='red')  # Regression line\n",
    "plt.xlabel('Square Root of Trade Volume')\n",
    "plt.ylabel('Absolute Price Change')\n",
    "plt.show()\n",
    "\n",
    "# Output model summary\n",
    "print(model.summary())\n"
   ]
  }
 ],
 "metadata": {
  "kernelspec": {
   "display_name": "fbd-project",
   "language": "python",
   "name": "python3"
  },
  "language_info": {
   "codemirror_mode": {
    "name": "ipython",
    "version": 3
   },
   "file_extension": ".py",
   "mimetype": "text/x-python",
   "name": "python",
   "nbconvert_exporter": "python",
   "pygments_lexer": "ipython3",
   "version": "3.10.13"
  }
 },
 "nbformat": 4,
 "nbformat_minor": 2
}
